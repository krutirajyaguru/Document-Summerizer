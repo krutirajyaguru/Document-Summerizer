{
 "cells": [
  {
   "cell_type": "code",
   "execution_count": 1,
   "id": "54466019-7f87-4373-beb3-5e8f69ad8a7b",
   "metadata": {},
   "outputs": [
    {
     "name": "stdout",
     "output_type": "stream",
     "text": [
      "Requirement already satisfied: datasets in /Users/niyantmehta/opt/anaconda3/lib/python3.9/site-packages (2.12.0)\n",
      "Requirement already satisfied: numpy>=1.17 in /Users/niyantmehta/opt/anaconda3/lib/python3.9/site-packages (from datasets) (1.23.5)\n",
      "Requirement already satisfied: pyarrow>=8.0.0 in /Users/niyantmehta/opt/anaconda3/lib/python3.9/site-packages (from datasets) (12.0.0)\n",
      "Requirement already satisfied: dill<0.3.7,>=0.3.0 in /Users/niyantmehta/opt/anaconda3/lib/python3.9/site-packages (from datasets) (0.3.6)\n",
      "Requirement already satisfied: pandas in /Users/niyantmehta/opt/anaconda3/lib/python3.9/site-packages (from datasets) (1.4.4)\n",
      "Requirement already satisfied: requests>=2.19.0 in /Users/niyantmehta/opt/anaconda3/lib/python3.9/site-packages (from datasets) (2.28.1)\n",
      "Requirement already satisfied: tqdm>=4.62.1 in /Users/niyantmehta/opt/anaconda3/lib/python3.9/site-packages (from datasets) (4.64.1)\n",
      "Requirement already satisfied: xxhash in /Users/niyantmehta/opt/anaconda3/lib/python3.9/site-packages (from datasets) (3.2.0)\n",
      "Requirement already satisfied: multiprocess in /Users/niyantmehta/opt/anaconda3/lib/python3.9/site-packages (from datasets) (0.70.14)\n",
      "Requirement already satisfied: fsspec[http]>=2021.11.1 in /Users/niyantmehta/opt/anaconda3/lib/python3.9/site-packages (from datasets) (2022.7.1)\n",
      "Requirement already satisfied: aiohttp in /Users/niyantmehta/opt/anaconda3/lib/python3.9/site-packages (from datasets) (3.8.4)\n",
      "Requirement already satisfied: huggingface-hub<1.0.0,>=0.11.0 in /Users/niyantmehta/opt/anaconda3/lib/python3.9/site-packages (from datasets) (0.14.1)\n",
      "Requirement already satisfied: packaging in /Users/niyantmehta/opt/anaconda3/lib/python3.9/site-packages (from datasets) (21.3)\n",
      "Requirement already satisfied: responses<0.19 in /Users/niyantmehta/opt/anaconda3/lib/python3.9/site-packages (from datasets) (0.18.0)\n",
      "Requirement already satisfied: pyyaml>=5.1 in /Users/niyantmehta/opt/anaconda3/lib/python3.9/site-packages (from datasets) (6.0)\n",
      "Requirement already satisfied: filelock in /Users/niyantmehta/opt/anaconda3/lib/python3.9/site-packages (from huggingface-hub<1.0.0,>=0.11.0->datasets) (3.6.0)\n",
      "Requirement already satisfied: typing-extensions>=3.7.4.3 in /Users/niyantmehta/opt/anaconda3/lib/python3.9/site-packages (from huggingface-hub<1.0.0,>=0.11.0->datasets) (4.3.0)\n",
      "Requirement already satisfied: pyparsing!=3.0.5,>=2.0.2 in /Users/niyantmehta/opt/anaconda3/lib/python3.9/site-packages (from packaging->datasets) (3.0.9)\n",
      "Requirement already satisfied: charset-normalizer<3,>=2 in /Users/niyantmehta/opt/anaconda3/lib/python3.9/site-packages (from requests>=2.19.0->datasets) (2.0.4)\n",
      "Requirement already satisfied: idna<4,>=2.5 in /Users/niyantmehta/opt/anaconda3/lib/python3.9/site-packages (from requests>=2.19.0->datasets) (3.3)\n",
      "Requirement already satisfied: urllib3<1.27,>=1.21.1 in /Users/niyantmehta/opt/anaconda3/lib/python3.9/site-packages (from requests>=2.19.0->datasets) (1.26.11)\n",
      "Requirement already satisfied: certifi>=2017.4.17 in /Users/niyantmehta/opt/anaconda3/lib/python3.9/site-packages (from requests>=2.19.0->datasets) (2022.12.7)\n",
      "Requirement already satisfied: attrs>=17.3.0 in /Users/niyantmehta/opt/anaconda3/lib/python3.9/site-packages (from aiohttp->datasets) (21.4.0)\n",
      "Requirement already satisfied: multidict<7.0,>=4.5 in /Users/niyantmehta/opt/anaconda3/lib/python3.9/site-packages (from aiohttp->datasets) (6.0.4)\n",
      "Requirement already satisfied: async-timeout<5.0,>=4.0.0a3 in /Users/niyantmehta/opt/anaconda3/lib/python3.9/site-packages (from aiohttp->datasets) (4.0.2)\n",
      "Requirement already satisfied: yarl<2.0,>=1.0 in /Users/niyantmehta/opt/anaconda3/lib/python3.9/site-packages (from aiohttp->datasets) (1.9.2)\n",
      "Requirement already satisfied: frozenlist>=1.1.1 in /Users/niyantmehta/opt/anaconda3/lib/python3.9/site-packages (from aiohttp->datasets) (1.3.3)\n",
      "Requirement already satisfied: aiosignal>=1.1.2 in /Users/niyantmehta/opt/anaconda3/lib/python3.9/site-packages (from aiohttp->datasets) (1.3.1)\n",
      "Requirement already satisfied: python-dateutil>=2.8.1 in /Users/niyantmehta/opt/anaconda3/lib/python3.9/site-packages (from pandas->datasets) (2.8.2)\n",
      "Requirement already satisfied: pytz>=2020.1 in /Users/niyantmehta/opt/anaconda3/lib/python3.9/site-packages (from pandas->datasets) (2022.1)\n",
      "Requirement already satisfied: six>=1.5 in /Users/niyantmehta/opt/anaconda3/lib/python3.9/site-packages (from python-dateutil>=2.8.1->pandas->datasets) (1.16.0)\n"
     ]
    }
   ],
   "source": [
    "!pip install datasets"
   ]
  },
  {
   "cell_type": "code",
   "execution_count": 2,
   "id": "40eff06b-f8cc-4330-8570-9bcd6d9c42e3",
   "metadata": {},
   "outputs": [
    {
     "name": "stdout",
     "output_type": "stream",
     "text": [
      "Intel MKL WARNING: Support of Intel(R) Streaming SIMD Extensions 4.2 (Intel(R) SSE4.2) enabled only processors has been deprecated. Intel oneAPI Math Kernel Library 2025.0 will require Intel(R) Advanced Vector Extensions (Intel(R) AVX) instructions.\n",
      "Intel MKL WARNING: Support of Intel(R) Streaming SIMD Extensions 4.2 (Intel(R) SSE4.2) enabled only processors has been deprecated. Intel oneAPI Math Kernel Library 2025.0 will require Intel(R) Advanced Vector Extensions (Intel(R) AVX) instructions.\n"
     ]
    },
    {
     "name": "stderr",
     "output_type": "stream",
     "text": [
      "/Users/niyantmehta/opt/anaconda3/envs/summary/lib/python3.9/site-packages/tqdm/auto.py:21: TqdmWarning: IProgress not found. Please update jupyter and ipywidgets. See https://ipywidgets.readthedocs.io/en/stable/user_install.html\n",
      "  from .autonotebook import tqdm as notebook_tqdm\n",
      "Found cached dataset cnn_dailymail (/Users/niyantmehta/.cache/huggingface/datasets/cnn_dailymail/3.0.0/3.0.0/1b3c71476f6d152c31c1730e83ccb08bcf23e348233f4fcc11e182248e6bf7de)\n",
      "100%|██████████| 3/3 [00:00<00:00, 48.67it/s]\n"
     ]
    }
   ],
   "source": [
    "from datasets import load_dataset\n",
    "import pandas as pd\n",
    "\n",
    "dataset = load_dataset('cnn_dailymail', '3.0.0')"
   ]
  },
  {
   "cell_type": "code",
   "execution_count": 3,
   "id": "1103f7ba-853c-43ca-bb16-cc0cc04b7ee6",
   "metadata": {},
   "outputs": [
    {
     "data": {
      "text/plain": [
       "DatasetDict({\n",
       "    train: Dataset({\n",
       "        features: ['article', 'highlights', 'id'],\n",
       "        num_rows: 287113\n",
       "    })\n",
       "    validation: Dataset({\n",
       "        features: ['article', 'highlights', 'id'],\n",
       "        num_rows: 13368\n",
       "    })\n",
       "    test: Dataset({\n",
       "        features: ['article', 'highlights', 'id'],\n",
       "        num_rows: 11490\n",
       "    })\n",
       "})"
      ]
     },
     "execution_count": 3,
     "metadata": {},
     "output_type": "execute_result"
    }
   ],
   "source": [
    "dataset"
   ]
  },
  {
   "cell_type": "code",
   "execution_count": 4,
   "id": "848bc92f-12a8-4259-b373-4d2732c30541",
   "metadata": {},
   "outputs": [
    {
     "data": {
      "text/html": [
       "<div>\n",
       "<style scoped>\n",
       "    .dataframe tbody tr th:only-of-type {\n",
       "        vertical-align: middle;\n",
       "    }\n",
       "\n",
       "    .dataframe tbody tr th {\n",
       "        vertical-align: top;\n",
       "    }\n",
       "\n",
       "    .dataframe thead th {\n",
       "        text-align: right;\n",
       "    }\n",
       "</style>\n",
       "<table border=\"1\" class=\"dataframe\">\n",
       "  <thead>\n",
       "    <tr style=\"text-align: right;\">\n",
       "      <th></th>\n",
       "      <th>article</th>\n",
       "      <th>highlights</th>\n",
       "      <th>id</th>\n",
       "    </tr>\n",
       "  </thead>\n",
       "  <tbody>\n",
       "    <tr>\n",
       "      <th>0</th>\n",
       "      <td>LONDON, England (Reuters) -- Harry Potter star...</td>\n",
       "      <td>Harry Potter star Daniel Radcliffe gets £20M f...</td>\n",
       "      <td>42c027e4ff9730fbb3de84c1af0d2c506e41c3e4</td>\n",
       "    </tr>\n",
       "    <tr>\n",
       "      <th>1</th>\n",
       "      <td>Editor's note: In our Behind the Scenes series...</td>\n",
       "      <td>Mentally ill inmates in Miami are housed on th...</td>\n",
       "      <td>ee8871b15c50d0db17b0179a6d2beab35065f1e9</td>\n",
       "    </tr>\n",
       "    <tr>\n",
       "      <th>2</th>\n",
       "      <td>MINNEAPOLIS, Minnesota (CNN) -- Drivers who we...</td>\n",
       "      <td>NEW: \"I thought I was going to die,\" driver sa...</td>\n",
       "      <td>06352019a19ae31e527f37f7571c6dd7f0c5da37</td>\n",
       "    </tr>\n",
       "    <tr>\n",
       "      <th>3</th>\n",
       "      <td>WASHINGTON (CNN) -- Doctors removed five small...</td>\n",
       "      <td>Five small polyps found during procedure; \"non...</td>\n",
       "      <td>24521a2abb2e1f5e34e6824e0f9e56904a2b0e88</td>\n",
       "    </tr>\n",
       "    <tr>\n",
       "      <th>4</th>\n",
       "      <td>(CNN)  -- The National Football League has ind...</td>\n",
       "      <td>NEW: NFL chief, Atlanta Falcons owner critical...</td>\n",
       "      <td>7fe70cc8b12fab2d0a258fababf7d9c6b5e1262a</td>\n",
       "    </tr>\n",
       "    <tr>\n",
       "      <th>...</th>\n",
       "      <td>...</td>\n",
       "      <td>...</td>\n",
       "      <td>...</td>\n",
       "    </tr>\n",
       "    <tr>\n",
       "      <th>287108</th>\n",
       "      <td>The nine-year-old daughter of a black, unarmed...</td>\n",
       "      <td>Rumain Brisbon, 34, was killed after Phoenix p...</td>\n",
       "      <td>279a12d3ee37b8109cc192a9e88115a5a631fb06</td>\n",
       "    </tr>\n",
       "    <tr>\n",
       "      <th>287109</th>\n",
       "      <td>Legalising assisted suicide is a slippery slop...</td>\n",
       "      <td>Theo Boer, a European assisted suicide watchdo...</td>\n",
       "      <td>b5bc9d404a9a5d890c9fc26550b67e6d8d83241f</td>\n",
       "    </tr>\n",
       "    <tr>\n",
       "      <th>287110</th>\n",
       "      <td>A group calling itself 'The Women of the 99 Pe...</td>\n",
       "      <td>Ohio congressman criticised for 'condoning the...</td>\n",
       "      <td>500862586f925e406f8b662934e1a71bbee32463</td>\n",
       "    </tr>\n",
       "    <tr>\n",
       "      <th>287111</th>\n",
       "      <td>Most men enjoy a good pint of lager or real al...</td>\n",
       "      <td>The Black Country Ale Tairsters have been to 1...</td>\n",
       "      <td>32a1f9e5c37a938c0c0bca1a1559247b9c4334b2</td>\n",
       "    </tr>\n",
       "    <tr>\n",
       "      <th>287112</th>\n",
       "      <td>A Facebook page seeking to preserve the 'Black...</td>\n",
       "      <td>Facebook page supporting tradition gains one m...</td>\n",
       "      <td>8ec9ff4d633dd4cc26d53f503c33f7464b43c36e</td>\n",
       "    </tr>\n",
       "  </tbody>\n",
       "</table>\n",
       "<p>287113 rows × 3 columns</p>\n",
       "</div>"
      ],
      "text/plain": [
       "                                                  article  \\\n",
       "0       LONDON, England (Reuters) -- Harry Potter star...   \n",
       "1       Editor's note: In our Behind the Scenes series...   \n",
       "2       MINNEAPOLIS, Minnesota (CNN) -- Drivers who we...   \n",
       "3       WASHINGTON (CNN) -- Doctors removed five small...   \n",
       "4       (CNN)  -- The National Football League has ind...   \n",
       "...                                                   ...   \n",
       "287108  The nine-year-old daughter of a black, unarmed...   \n",
       "287109  Legalising assisted suicide is a slippery slop...   \n",
       "287110  A group calling itself 'The Women of the 99 Pe...   \n",
       "287111  Most men enjoy a good pint of lager or real al...   \n",
       "287112  A Facebook page seeking to preserve the 'Black...   \n",
       "\n",
       "                                               highlights  \\\n",
       "0       Harry Potter star Daniel Radcliffe gets £20M f...   \n",
       "1       Mentally ill inmates in Miami are housed on th...   \n",
       "2       NEW: \"I thought I was going to die,\" driver sa...   \n",
       "3       Five small polyps found during procedure; \"non...   \n",
       "4       NEW: NFL chief, Atlanta Falcons owner critical...   \n",
       "...                                                   ...   \n",
       "287108  Rumain Brisbon, 34, was killed after Phoenix p...   \n",
       "287109  Theo Boer, a European assisted suicide watchdo...   \n",
       "287110  Ohio congressman criticised for 'condoning the...   \n",
       "287111  The Black Country Ale Tairsters have been to 1...   \n",
       "287112  Facebook page supporting tradition gains one m...   \n",
       "\n",
       "                                              id  \n",
       "0       42c027e4ff9730fbb3de84c1af0d2c506e41c3e4  \n",
       "1       ee8871b15c50d0db17b0179a6d2beab35065f1e9  \n",
       "2       06352019a19ae31e527f37f7571c6dd7f0c5da37  \n",
       "3       24521a2abb2e1f5e34e6824e0f9e56904a2b0e88  \n",
       "4       7fe70cc8b12fab2d0a258fababf7d9c6b5e1262a  \n",
       "...                                          ...  \n",
       "287108  279a12d3ee37b8109cc192a9e88115a5a631fb06  \n",
       "287109  b5bc9d404a9a5d890c9fc26550b67e6d8d83241f  \n",
       "287110  500862586f925e406f8b662934e1a71bbee32463  \n",
       "287111  32a1f9e5c37a938c0c0bca1a1559247b9c4334b2  \n",
       "287112  8ec9ff4d633dd4cc26d53f503c33f7464b43c36e  \n",
       "\n",
       "[287113 rows x 3 columns]"
      ]
     },
     "execution_count": 4,
     "metadata": {},
     "output_type": "execute_result"
    }
   ],
   "source": [
    "train = pd.DataFrame(dataset['train'])\n",
    "train"
   ]
  },
  {
   "cell_type": "code",
   "execution_count": 5,
   "id": "199681cb-1247-466b-9d41-eb95256db3b3",
   "metadata": {},
   "outputs": [
    {
     "data": {
      "text/html": [
       "<div>\n",
       "<style scoped>\n",
       "    .dataframe tbody tr th:only-of-type {\n",
       "        vertical-align: middle;\n",
       "    }\n",
       "\n",
       "    .dataframe tbody tr th {\n",
       "        vertical-align: top;\n",
       "    }\n",
       "\n",
       "    .dataframe thead th {\n",
       "        text-align: right;\n",
       "    }\n",
       "</style>\n",
       "<table border=\"1\" class=\"dataframe\">\n",
       "  <thead>\n",
       "    <tr style=\"text-align: right;\">\n",
       "      <th></th>\n",
       "      <th>article</th>\n",
       "      <th>highlights</th>\n",
       "      <th>id</th>\n",
       "    </tr>\n",
       "  </thead>\n",
       "  <tbody>\n",
       "    <tr>\n",
       "      <th>0</th>\n",
       "      <td>(CNN)Share, and your gift will be multiplied. ...</td>\n",
       "      <td>Zully Broussard decided to give a kidney to a ...</td>\n",
       "      <td>a4942dd663020ca54575471657a0af38d82897d6</td>\n",
       "    </tr>\n",
       "    <tr>\n",
       "      <th>1</th>\n",
       "      <td>(CNN)On the 6th of April 1996, San Jose Clash ...</td>\n",
       "      <td>The 20th MLS season begins this weekend .\\nLea...</td>\n",
       "      <td>4157bc4da185971e2742f349d69a037343bc0d95</td>\n",
       "    </tr>\n",
       "    <tr>\n",
       "      <th>2</th>\n",
       "      <td>(CNN)French striker Bafetimbi Gomis, who has a...</td>\n",
       "      <td>Bafetimbi Gomis collapses within 10 minutes of...</td>\n",
       "      <td>60736693e3b1b32d14337a317190c6606e879a85</td>\n",
       "    </tr>\n",
       "    <tr>\n",
       "      <th>3</th>\n",
       "      <td>(CNN)It was an act of frustration perhaps more...</td>\n",
       "      <td>Rory McIlroy throws club into water at WGC Cad...</td>\n",
       "      <td>8cdf9cc3ed0276b7a7944cc18ba459355b5984ad</td>\n",
       "    </tr>\n",
       "    <tr>\n",
       "      <th>4</th>\n",
       "      <td>(CNN)A Pennsylvania community is pulling toget...</td>\n",
       "      <td>Cayman Naib, 13, hasn't been heard from since ...</td>\n",
       "      <td>2e6613d531843515bf5401286cc3e45c4df530d2</td>\n",
       "    </tr>\n",
       "    <tr>\n",
       "      <th>...</th>\n",
       "      <td>...</td>\n",
       "      <td>...</td>\n",
       "      <td>...</td>\n",
       "    </tr>\n",
       "    <tr>\n",
       "      <th>13363</th>\n",
       "      <td>It is the dream of many young children, the ch...</td>\n",
       "      <td>The town in Valley Center, San Diego, has been...</td>\n",
       "      <td>5ab020397649fecae34c9e3ac2f7a6c67a5f3153</td>\n",
       "    </tr>\n",
       "    <tr>\n",
       "      <th>13364</th>\n",
       "      <td>It’s the type of encounter that can send panic...</td>\n",
       "      <td>Photographer Graham Hewer captured the jaw-dro...</td>\n",
       "      <td>b189166be7b1dc93f635d7860d4978498608ae07</td>\n",
       "    </tr>\n",
       "    <tr>\n",
       "      <th>13365</th>\n",
       "      <td>A group of tourists to the Bahamas enjoyed one...</td>\n",
       "      <td>The pigs swim through the crystal clear sea an...</td>\n",
       "      <td>c513500c9c53726b4ed0065b32bbca651c64b368</td>\n",
       "    </tr>\n",
       "    <tr>\n",
       "      <th>13366</th>\n",
       "      <td>Pippa Middleton bundled up against the London ...</td>\n",
       "      <td>Kate's sister is back in London following 'cri...</td>\n",
       "      <td>cf2450f9e17d98ff9065c88262cba77855092d84</td>\n",
       "    </tr>\n",
       "    <tr>\n",
       "      <th>13367</th>\n",
       "      <td>A teacher and wrestling coach has been charged...</td>\n",
       "      <td>Megan Blair Baker, 25, has been accused of sex...</td>\n",
       "      <td>0d51202d0a78a1ed8c02b5e93d8f643fb5ff0399</td>\n",
       "    </tr>\n",
       "  </tbody>\n",
       "</table>\n",
       "<p>13368 rows × 3 columns</p>\n",
       "</div>"
      ],
      "text/plain": [
       "                                                 article  \\\n",
       "0      (CNN)Share, and your gift will be multiplied. ...   \n",
       "1      (CNN)On the 6th of April 1996, San Jose Clash ...   \n",
       "2      (CNN)French striker Bafetimbi Gomis, who has a...   \n",
       "3      (CNN)It was an act of frustration perhaps more...   \n",
       "4      (CNN)A Pennsylvania community is pulling toget...   \n",
       "...                                                  ...   \n",
       "13363  It is the dream of many young children, the ch...   \n",
       "13364  It’s the type of encounter that can send panic...   \n",
       "13365  A group of tourists to the Bahamas enjoyed one...   \n",
       "13366  Pippa Middleton bundled up against the London ...   \n",
       "13367  A teacher and wrestling coach has been charged...   \n",
       "\n",
       "                                              highlights  \\\n",
       "0      Zully Broussard decided to give a kidney to a ...   \n",
       "1      The 20th MLS season begins this weekend .\\nLea...   \n",
       "2      Bafetimbi Gomis collapses within 10 minutes of...   \n",
       "3      Rory McIlroy throws club into water at WGC Cad...   \n",
       "4      Cayman Naib, 13, hasn't been heard from since ...   \n",
       "...                                                  ...   \n",
       "13363  The town in Valley Center, San Diego, has been...   \n",
       "13364  Photographer Graham Hewer captured the jaw-dro...   \n",
       "13365  The pigs swim through the crystal clear sea an...   \n",
       "13366  Kate's sister is back in London following 'cri...   \n",
       "13367  Megan Blair Baker, 25, has been accused of sex...   \n",
       "\n",
       "                                             id  \n",
       "0      a4942dd663020ca54575471657a0af38d82897d6  \n",
       "1      4157bc4da185971e2742f349d69a037343bc0d95  \n",
       "2      60736693e3b1b32d14337a317190c6606e879a85  \n",
       "3      8cdf9cc3ed0276b7a7944cc18ba459355b5984ad  \n",
       "4      2e6613d531843515bf5401286cc3e45c4df530d2  \n",
       "...                                         ...  \n",
       "13363  5ab020397649fecae34c9e3ac2f7a6c67a5f3153  \n",
       "13364  b189166be7b1dc93f635d7860d4978498608ae07  \n",
       "13365  c513500c9c53726b4ed0065b32bbca651c64b368  \n",
       "13366  cf2450f9e17d98ff9065c88262cba77855092d84  \n",
       "13367  0d51202d0a78a1ed8c02b5e93d8f643fb5ff0399  \n",
       "\n",
       "[13368 rows x 3 columns]"
      ]
     },
     "execution_count": 5,
     "metadata": {},
     "output_type": "execute_result"
    }
   ],
   "source": [
    "validation = pd.DataFrame(dataset['validation'])\n",
    "validation"
   ]
  },
  {
   "cell_type": "code",
   "execution_count": 6,
   "id": "2b4049aa-de16-4348-a9de-497240909ed8",
   "metadata": {},
   "outputs": [
    {
     "data": {
      "text/html": [
       "<div>\n",
       "<style scoped>\n",
       "    .dataframe tbody tr th:only-of-type {\n",
       "        vertical-align: middle;\n",
       "    }\n",
       "\n",
       "    .dataframe tbody tr th {\n",
       "        vertical-align: top;\n",
       "    }\n",
       "\n",
       "    .dataframe thead th {\n",
       "        text-align: right;\n",
       "    }\n",
       "</style>\n",
       "<table border=\"1\" class=\"dataframe\">\n",
       "  <thead>\n",
       "    <tr style=\"text-align: right;\">\n",
       "      <th></th>\n",
       "      <th>article</th>\n",
       "      <th>highlights</th>\n",
       "      <th>id</th>\n",
       "    </tr>\n",
       "  </thead>\n",
       "  <tbody>\n",
       "    <tr>\n",
       "      <th>0</th>\n",
       "      <td>(CNN)The Palestinian Authority officially beca...</td>\n",
       "      <td>Membership gives the ICC jurisdiction over all...</td>\n",
       "      <td>f001ec5c4704938247d27a44948eebb37ae98d01</td>\n",
       "    </tr>\n",
       "    <tr>\n",
       "      <th>1</th>\n",
       "      <td>(CNN)Never mind cats having nine lives. A stra...</td>\n",
       "      <td>Theia, a bully breed mix, was apparently hit b...</td>\n",
       "      <td>230c522854991d053fe98a718b1defa077a8efef</td>\n",
       "    </tr>\n",
       "    <tr>\n",
       "      <th>2</th>\n",
       "      <td>(CNN)If you've been following the news lately,...</td>\n",
       "      <td>Mohammad Javad Zarif has spent more time with ...</td>\n",
       "      <td>4495ba8f3a340d97a9df1476f8a35502bcce1f69</td>\n",
       "    </tr>\n",
       "    <tr>\n",
       "      <th>3</th>\n",
       "      <td>(CNN)Five Americans who were monitored for thr...</td>\n",
       "      <td>17 Americans were exposed to the Ebola virus w...</td>\n",
       "      <td>a38e72fed88684ec8d60dd5856282e999dc8c0ca</td>\n",
       "    </tr>\n",
       "    <tr>\n",
       "      <th>4</th>\n",
       "      <td>(CNN)A Duke student has admitted to hanging a ...</td>\n",
       "      <td>Student is no longer on Duke University campus...</td>\n",
       "      <td>c27cf1b136cc270023de959e7ab24638021bc43f</td>\n",
       "    </tr>\n",
       "    <tr>\n",
       "      <th>...</th>\n",
       "      <td>...</td>\n",
       "      <td>...</td>\n",
       "      <td>...</td>\n",
       "    </tr>\n",
       "    <tr>\n",
       "      <th>11485</th>\n",
       "      <td>Telecom watchdogs are to stop a rip-off that a...</td>\n",
       "      <td>Operators are charging up to 20p a minute - ev...</td>\n",
       "      <td>0ac776a4dc09ca97c136f4314fed4defb48a361a</td>\n",
       "    </tr>\n",
       "    <tr>\n",
       "      <th>11486</th>\n",
       "      <td>The chilling reenactment of how executions are...</td>\n",
       "      <td>Bali Nine ringleaders will face the firing squ...</td>\n",
       "      <td>fe89a6a2e28d173e5ad4c6d814c15b95aa969e3f</td>\n",
       "    </tr>\n",
       "    <tr>\n",
       "      <th>11487</th>\n",
       "      <td>It is a week which has seen him in deep water ...</td>\n",
       "      <td>Hardy was convicted of domestic abuse against ...</td>\n",
       "      <td>ded2f535cd6ab95d11b5f4ea29bbf2b2d3c55c50</td>\n",
       "    </tr>\n",
       "    <tr>\n",
       "      <th>11488</th>\n",
       "      <td>Despite the hype surrounding its first watch, ...</td>\n",
       "      <td>Apple sold more than 61 million iPhones in the...</td>\n",
       "      <td>30ec5f280eee772a73d181bfc8514defd8026434</td>\n",
       "    </tr>\n",
       "    <tr>\n",
       "      <th>11489</th>\n",
       "      <td>Angus Hawley's brother has spoken of his shock...</td>\n",
       "      <td>Angus Hawley's brother said his late sibling '...</td>\n",
       "      <td>b4a1738c4a0acdf3d189264a0927005aa5b856d6</td>\n",
       "    </tr>\n",
       "  </tbody>\n",
       "</table>\n",
       "<p>11490 rows × 3 columns</p>\n",
       "</div>"
      ],
      "text/plain": [
       "                                                 article  \\\n",
       "0      (CNN)The Palestinian Authority officially beca...   \n",
       "1      (CNN)Never mind cats having nine lives. A stra...   \n",
       "2      (CNN)If you've been following the news lately,...   \n",
       "3      (CNN)Five Americans who were monitored for thr...   \n",
       "4      (CNN)A Duke student has admitted to hanging a ...   \n",
       "...                                                  ...   \n",
       "11485  Telecom watchdogs are to stop a rip-off that a...   \n",
       "11486  The chilling reenactment of how executions are...   \n",
       "11487  It is a week which has seen him in deep water ...   \n",
       "11488  Despite the hype surrounding its first watch, ...   \n",
       "11489  Angus Hawley's brother has spoken of his shock...   \n",
       "\n",
       "                                              highlights  \\\n",
       "0      Membership gives the ICC jurisdiction over all...   \n",
       "1      Theia, a bully breed mix, was apparently hit b...   \n",
       "2      Mohammad Javad Zarif has spent more time with ...   \n",
       "3      17 Americans were exposed to the Ebola virus w...   \n",
       "4      Student is no longer on Duke University campus...   \n",
       "...                                                  ...   \n",
       "11485  Operators are charging up to 20p a minute - ev...   \n",
       "11486  Bali Nine ringleaders will face the firing squ...   \n",
       "11487  Hardy was convicted of domestic abuse against ...   \n",
       "11488  Apple sold more than 61 million iPhones in the...   \n",
       "11489  Angus Hawley's brother said his late sibling '...   \n",
       "\n",
       "                                             id  \n",
       "0      f001ec5c4704938247d27a44948eebb37ae98d01  \n",
       "1      230c522854991d053fe98a718b1defa077a8efef  \n",
       "2      4495ba8f3a340d97a9df1476f8a35502bcce1f69  \n",
       "3      a38e72fed88684ec8d60dd5856282e999dc8c0ca  \n",
       "4      c27cf1b136cc270023de959e7ab24638021bc43f  \n",
       "...                                         ...  \n",
       "11485  0ac776a4dc09ca97c136f4314fed4defb48a361a  \n",
       "11486  fe89a6a2e28d173e5ad4c6d814c15b95aa969e3f  \n",
       "11487  ded2f535cd6ab95d11b5f4ea29bbf2b2d3c55c50  \n",
       "11488  30ec5f280eee772a73d181bfc8514defd8026434  \n",
       "11489  b4a1738c4a0acdf3d189264a0927005aa5b856d6  \n",
       "\n",
       "[11490 rows x 3 columns]"
      ]
     },
     "execution_count": 6,
     "metadata": {},
     "output_type": "execute_result"
    }
   ],
   "source": [
    "test = pd.DataFrame(dataset['test'])\n",
    "test"
   ]
  },
  {
   "cell_type": "code",
   "execution_count": 7,
   "id": "d0518a66-72bc-4353-a8e7-02f6d354da96",
   "metadata": {},
   "outputs": [],
   "source": [
    "full =pd.concat([train,test,validation])"
   ]
  },
  {
   "cell_type": "code",
   "execution_count": 7,
   "id": "5914c6ad-e1e5-4925-8356-0f37111847cc",
   "metadata": {},
   "outputs": [
    {
     "data": {
      "text/html": [
       "<div>\n",
       "<style scoped>\n",
       "    .dataframe tbody tr th:only-of-type {\n",
       "        vertical-align: middle;\n",
       "    }\n",
       "\n",
       "    .dataframe tbody tr th {\n",
       "        vertical-align: top;\n",
       "    }\n",
       "\n",
       "    .dataframe thead th {\n",
       "        text-align: right;\n",
       "    }\n",
       "</style>\n",
       "<table border=\"1\" class=\"dataframe\">\n",
       "  <thead>\n",
       "    <tr style=\"text-align: right;\">\n",
       "      <th></th>\n",
       "      <th>article</th>\n",
       "      <th>highlights</th>\n",
       "      <th>id</th>\n",
       "    </tr>\n",
       "  </thead>\n",
       "  <tbody>\n",
       "    <tr>\n",
       "      <th>0</th>\n",
       "      <td>LONDON, England (Reuters) -- Harry Potter star...</td>\n",
       "      <td>Harry Potter star Daniel Radcliffe gets £20M f...</td>\n",
       "      <td>42c027e4ff9730fbb3de84c1af0d2c506e41c3e4</td>\n",
       "    </tr>\n",
       "    <tr>\n",
       "      <th>1</th>\n",
       "      <td>Editor's note: In our Behind the Scenes series...</td>\n",
       "      <td>Mentally ill inmates in Miami are housed on th...</td>\n",
       "      <td>ee8871b15c50d0db17b0179a6d2beab35065f1e9</td>\n",
       "    </tr>\n",
       "    <tr>\n",
       "      <th>2</th>\n",
       "      <td>MINNEAPOLIS, Minnesota (CNN) -- Drivers who we...</td>\n",
       "      <td>NEW: \"I thought I was going to die,\" driver sa...</td>\n",
       "      <td>06352019a19ae31e527f37f7571c6dd7f0c5da37</td>\n",
       "    </tr>\n",
       "    <tr>\n",
       "      <th>3</th>\n",
       "      <td>WASHINGTON (CNN) -- Doctors removed five small...</td>\n",
       "      <td>Five small polyps found during procedure; \"non...</td>\n",
       "      <td>24521a2abb2e1f5e34e6824e0f9e56904a2b0e88</td>\n",
       "    </tr>\n",
       "    <tr>\n",
       "      <th>4</th>\n",
       "      <td>(CNN)  -- The National Football League has ind...</td>\n",
       "      <td>NEW: NFL chief, Atlanta Falcons owner critical...</td>\n",
       "      <td>7fe70cc8b12fab2d0a258fababf7d9c6b5e1262a</td>\n",
       "    </tr>\n",
       "    <tr>\n",
       "      <th>...</th>\n",
       "      <td>...</td>\n",
       "      <td>...</td>\n",
       "      <td>...</td>\n",
       "    </tr>\n",
       "    <tr>\n",
       "      <th>13363</th>\n",
       "      <td>It is the dream of many young children, the ch...</td>\n",
       "      <td>The town in Valley Center, San Diego, has been...</td>\n",
       "      <td>5ab020397649fecae34c9e3ac2f7a6c67a5f3153</td>\n",
       "    </tr>\n",
       "    <tr>\n",
       "      <th>13364</th>\n",
       "      <td>It’s the type of encounter that can send panic...</td>\n",
       "      <td>Photographer Graham Hewer captured the jaw-dro...</td>\n",
       "      <td>b189166be7b1dc93f635d7860d4978498608ae07</td>\n",
       "    </tr>\n",
       "    <tr>\n",
       "      <th>13365</th>\n",
       "      <td>A group of tourists to the Bahamas enjoyed one...</td>\n",
       "      <td>The pigs swim through the crystal clear sea an...</td>\n",
       "      <td>c513500c9c53726b4ed0065b32bbca651c64b368</td>\n",
       "    </tr>\n",
       "    <tr>\n",
       "      <th>13366</th>\n",
       "      <td>Pippa Middleton bundled up against the London ...</td>\n",
       "      <td>Kate's sister is back in London following 'cri...</td>\n",
       "      <td>cf2450f9e17d98ff9065c88262cba77855092d84</td>\n",
       "    </tr>\n",
       "    <tr>\n",
       "      <th>13367</th>\n",
       "      <td>A teacher and wrestling coach has been charged...</td>\n",
       "      <td>Megan Blair Baker, 25, has been accused of sex...</td>\n",
       "      <td>0d51202d0a78a1ed8c02b5e93d8f643fb5ff0399</td>\n",
       "    </tr>\n",
       "  </tbody>\n",
       "</table>\n",
       "<p>311971 rows × 3 columns</p>\n",
       "</div>"
      ],
      "text/plain": [
       "                                                 article  \\\n",
       "0      LONDON, England (Reuters) -- Harry Potter star...   \n",
       "1      Editor's note: In our Behind the Scenes series...   \n",
       "2      MINNEAPOLIS, Minnesota (CNN) -- Drivers who we...   \n",
       "3      WASHINGTON (CNN) -- Doctors removed five small...   \n",
       "4      (CNN)  -- The National Football League has ind...   \n",
       "...                                                  ...   \n",
       "13363  It is the dream of many young children, the ch...   \n",
       "13364  It’s the type of encounter that can send panic...   \n",
       "13365  A group of tourists to the Bahamas enjoyed one...   \n",
       "13366  Pippa Middleton bundled up against the London ...   \n",
       "13367  A teacher and wrestling coach has been charged...   \n",
       "\n",
       "                                              highlights  \\\n",
       "0      Harry Potter star Daniel Radcliffe gets £20M f...   \n",
       "1      Mentally ill inmates in Miami are housed on th...   \n",
       "2      NEW: \"I thought I was going to die,\" driver sa...   \n",
       "3      Five small polyps found during procedure; \"non...   \n",
       "4      NEW: NFL chief, Atlanta Falcons owner critical...   \n",
       "...                                                  ...   \n",
       "13363  The town in Valley Center, San Diego, has been...   \n",
       "13364  Photographer Graham Hewer captured the jaw-dro...   \n",
       "13365  The pigs swim through the crystal clear sea an...   \n",
       "13366  Kate's sister is back in London following 'cri...   \n",
       "13367  Megan Blair Baker, 25, has been accused of sex...   \n",
       "\n",
       "                                             id  \n",
       "0      42c027e4ff9730fbb3de84c1af0d2c506e41c3e4  \n",
       "1      ee8871b15c50d0db17b0179a6d2beab35065f1e9  \n",
       "2      06352019a19ae31e527f37f7571c6dd7f0c5da37  \n",
       "3      24521a2abb2e1f5e34e6824e0f9e56904a2b0e88  \n",
       "4      7fe70cc8b12fab2d0a258fababf7d9c6b5e1262a  \n",
       "...                                         ...  \n",
       "13363  5ab020397649fecae34c9e3ac2f7a6c67a5f3153  \n",
       "13364  b189166be7b1dc93f635d7860d4978498608ae07  \n",
       "13365  c513500c9c53726b4ed0065b32bbca651c64b368  \n",
       "13366  cf2450f9e17d98ff9065c88262cba77855092d84  \n",
       "13367  0d51202d0a78a1ed8c02b5e93d8f643fb5ff0399  \n",
       "\n",
       "[311971 rows x 3 columns]"
      ]
     },
     "execution_count": 7,
     "metadata": {},
     "output_type": "execute_result"
    }
   ],
   "source": [
    "full"
   ]
  },
  {
   "cell_type": "code",
   "execution_count": 8,
   "id": "0e606744-1acd-4323-b91c-21e753447ab1",
   "metadata": {},
   "outputs": [
    {
     "name": "stdout",
     "output_type": "stream",
     "text": [
      "<class 'pandas.core.frame.DataFrame'>\n",
      "Int64Index: 311971 entries, 0 to 13367\n",
      "Data columns (total 3 columns):\n",
      " #   Column      Non-Null Count   Dtype \n",
      "---  ------      --------------   ----- \n",
      " 0   article     311971 non-null  object\n",
      " 1   highlights  311971 non-null  object\n",
      " 2   id          311971 non-null  object\n",
      "dtypes: object(3)\n",
      "memory usage: 9.5+ MB\n"
     ]
    }
   ],
   "source": [
    "full.info()"
   ]
  },
  {
   "cell_type": "code",
   "execution_count": 8,
   "id": "5e0a2716-aac7-4a44-b266-3e8264a8133a",
   "metadata": {},
   "outputs": [],
   "source": [
    "full = full.reset_index(drop=True)"
   ]
  },
  {
   "cell_type": "code",
   "execution_count": 10,
   "id": "c2b37ce6-f8a0-4fb4-b4a1-17991a047eae",
   "metadata": {},
   "outputs": [
    {
     "data": {
      "text/html": [
       "<div>\n",
       "<style scoped>\n",
       "    .dataframe tbody tr th:only-of-type {\n",
       "        vertical-align: middle;\n",
       "    }\n",
       "\n",
       "    .dataframe tbody tr th {\n",
       "        vertical-align: top;\n",
       "    }\n",
       "\n",
       "    .dataframe thead th {\n",
       "        text-align: right;\n",
       "    }\n",
       "</style>\n",
       "<table border=\"1\" class=\"dataframe\">\n",
       "  <thead>\n",
       "    <tr style=\"text-align: right;\">\n",
       "      <th></th>\n",
       "      <th>article</th>\n",
       "      <th>highlights</th>\n",
       "      <th>id</th>\n",
       "    </tr>\n",
       "  </thead>\n",
       "  <tbody>\n",
       "    <tr>\n",
       "      <th>0</th>\n",
       "      <td>LONDON, England (Reuters) -- Harry Potter star...</td>\n",
       "      <td>Harry Potter star Daniel Radcliffe gets £20M f...</td>\n",
       "      <td>42c027e4ff9730fbb3de84c1af0d2c506e41c3e4</td>\n",
       "    </tr>\n",
       "    <tr>\n",
       "      <th>1</th>\n",
       "      <td>Editor's note: In our Behind the Scenes series...</td>\n",
       "      <td>Mentally ill inmates in Miami are housed on th...</td>\n",
       "      <td>ee8871b15c50d0db17b0179a6d2beab35065f1e9</td>\n",
       "    </tr>\n",
       "    <tr>\n",
       "      <th>2</th>\n",
       "      <td>MINNEAPOLIS, Minnesota (CNN) -- Drivers who we...</td>\n",
       "      <td>NEW: \"I thought I was going to die,\" driver sa...</td>\n",
       "      <td>06352019a19ae31e527f37f7571c6dd7f0c5da37</td>\n",
       "    </tr>\n",
       "    <tr>\n",
       "      <th>3</th>\n",
       "      <td>WASHINGTON (CNN) -- Doctors removed five small...</td>\n",
       "      <td>Five small polyps found during procedure; \"non...</td>\n",
       "      <td>24521a2abb2e1f5e34e6824e0f9e56904a2b0e88</td>\n",
       "    </tr>\n",
       "    <tr>\n",
       "      <th>4</th>\n",
       "      <td>(CNN)  -- The National Football League has ind...</td>\n",
       "      <td>NEW: NFL chief, Atlanta Falcons owner critical...</td>\n",
       "      <td>7fe70cc8b12fab2d0a258fababf7d9c6b5e1262a</td>\n",
       "    </tr>\n",
       "    <tr>\n",
       "      <th>...</th>\n",
       "      <td>...</td>\n",
       "      <td>...</td>\n",
       "      <td>...</td>\n",
       "    </tr>\n",
       "    <tr>\n",
       "      <th>311966</th>\n",
       "      <td>It is the dream of many young children, the ch...</td>\n",
       "      <td>The town in Valley Center, San Diego, has been...</td>\n",
       "      <td>5ab020397649fecae34c9e3ac2f7a6c67a5f3153</td>\n",
       "    </tr>\n",
       "    <tr>\n",
       "      <th>311967</th>\n",
       "      <td>It’s the type of encounter that can send panic...</td>\n",
       "      <td>Photographer Graham Hewer captured the jaw-dro...</td>\n",
       "      <td>b189166be7b1dc93f635d7860d4978498608ae07</td>\n",
       "    </tr>\n",
       "    <tr>\n",
       "      <th>311968</th>\n",
       "      <td>A group of tourists to the Bahamas enjoyed one...</td>\n",
       "      <td>The pigs swim through the crystal clear sea an...</td>\n",
       "      <td>c513500c9c53726b4ed0065b32bbca651c64b368</td>\n",
       "    </tr>\n",
       "    <tr>\n",
       "      <th>311969</th>\n",
       "      <td>Pippa Middleton bundled up against the London ...</td>\n",
       "      <td>Kate's sister is back in London following 'cri...</td>\n",
       "      <td>cf2450f9e17d98ff9065c88262cba77855092d84</td>\n",
       "    </tr>\n",
       "    <tr>\n",
       "      <th>311970</th>\n",
       "      <td>A teacher and wrestling coach has been charged...</td>\n",
       "      <td>Megan Blair Baker, 25, has been accused of sex...</td>\n",
       "      <td>0d51202d0a78a1ed8c02b5e93d8f643fb5ff0399</td>\n",
       "    </tr>\n",
       "  </tbody>\n",
       "</table>\n",
       "<p>311971 rows × 3 columns</p>\n",
       "</div>"
      ],
      "text/plain": [
       "                                                  article  \\\n",
       "0       LONDON, England (Reuters) -- Harry Potter star...   \n",
       "1       Editor's note: In our Behind the Scenes series...   \n",
       "2       MINNEAPOLIS, Minnesota (CNN) -- Drivers who we...   \n",
       "3       WASHINGTON (CNN) -- Doctors removed five small...   \n",
       "4       (CNN)  -- The National Football League has ind...   \n",
       "...                                                   ...   \n",
       "311966  It is the dream of many young children, the ch...   \n",
       "311967  It’s the type of encounter that can send panic...   \n",
       "311968  A group of tourists to the Bahamas enjoyed one...   \n",
       "311969  Pippa Middleton bundled up against the London ...   \n",
       "311970  A teacher and wrestling coach has been charged...   \n",
       "\n",
       "                                               highlights  \\\n",
       "0       Harry Potter star Daniel Radcliffe gets £20M f...   \n",
       "1       Mentally ill inmates in Miami are housed on th...   \n",
       "2       NEW: \"I thought I was going to die,\" driver sa...   \n",
       "3       Five small polyps found during procedure; \"non...   \n",
       "4       NEW: NFL chief, Atlanta Falcons owner critical...   \n",
       "...                                                   ...   \n",
       "311966  The town in Valley Center, San Diego, has been...   \n",
       "311967  Photographer Graham Hewer captured the jaw-dro...   \n",
       "311968  The pigs swim through the crystal clear sea an...   \n",
       "311969  Kate's sister is back in London following 'cri...   \n",
       "311970  Megan Blair Baker, 25, has been accused of sex...   \n",
       "\n",
       "                                              id  \n",
       "0       42c027e4ff9730fbb3de84c1af0d2c506e41c3e4  \n",
       "1       ee8871b15c50d0db17b0179a6d2beab35065f1e9  \n",
       "2       06352019a19ae31e527f37f7571c6dd7f0c5da37  \n",
       "3       24521a2abb2e1f5e34e6824e0f9e56904a2b0e88  \n",
       "4       7fe70cc8b12fab2d0a258fababf7d9c6b5e1262a  \n",
       "...                                          ...  \n",
       "311966  5ab020397649fecae34c9e3ac2f7a6c67a5f3153  \n",
       "311967  b189166be7b1dc93f635d7860d4978498608ae07  \n",
       "311968  c513500c9c53726b4ed0065b32bbca651c64b368  \n",
       "311969  cf2450f9e17d98ff9065c88262cba77855092d84  \n",
       "311970  0d51202d0a78a1ed8c02b5e93d8f643fb5ff0399  \n",
       "\n",
       "[311971 rows x 3 columns]"
      ]
     },
     "execution_count": 10,
     "metadata": {},
     "output_type": "execute_result"
    }
   ],
   "source": [
    "full"
   ]
  },
  {
   "cell_type": "code",
   "execution_count": 11,
   "id": "55535b46-cbf5-46cc-b2a1-8d2f08b9a687",
   "metadata": {},
   "outputs": [
    {
     "data": {
      "text/plain": [
       "\"Harry Potter star Daniel Radcliffe gets £20M fortune as he turns 18 Monday .\\nYoung actor says he has no plans to fritter his cash away .\\nRadcliffe's earnings from first five Potter films have been held in trust fund .\""
      ]
     },
     "execution_count": 11,
     "metadata": {},
     "output_type": "execute_result"
    }
   ],
   "source": [
    "full['highlights'][0]"
   ]
  },
  {
   "cell_type": "code",
   "execution_count": 12,
   "id": "6172f9f9-e4b2-4c5f-bcc8-7d572cc5e07f",
   "metadata": {},
   "outputs": [],
   "source": [
    "#Before applying feature engineering , we should split the data\n",
    "X = full[\"article\"]\n",
    "y = full[\"highlights\"]"
   ]
  },
  {
   "cell_type": "code",
   "execution_count": 13,
   "id": "014bfe0f-ce40-4278-b6df-cea04e8fbea3",
   "metadata": {},
   "outputs": [
    {
     "data": {
      "text/plain": [
       "((311971,), (311971,))"
      ]
     },
     "execution_count": 13,
     "metadata": {},
     "output_type": "execute_result"
    }
   ],
   "source": [
    "X.shape,y.shape"
   ]
  },
  {
   "cell_type": "code",
   "execution_count": 14,
   "id": "fae704f6-dadf-4146-ad40-6e4cdaf76cf4",
   "metadata": {},
   "outputs": [
    {
     "ename": "ModuleNotFoundError",
     "evalue": "No module named 'sklearn'",
     "output_type": "error",
     "traceback": [
      "\u001b[0;31m---------------------------------------------------------------------------\u001b[0m",
      "\u001b[0;31mModuleNotFoundError\u001b[0m                       Traceback (most recent call last)",
      "Input \u001b[0;32mIn [14]\u001b[0m, in \u001b[0;36m<cell line: 1>\u001b[0;34m()\u001b[0m\n\u001b[0;32m----> 1\u001b[0m \u001b[38;5;28;01mfrom\u001b[39;00m \u001b[38;5;21;01msklearn\u001b[39;00m\u001b[38;5;21;01m.\u001b[39;00m\u001b[38;5;21;01mmodel_selection\u001b[39;00m \u001b[38;5;28;01mimport\u001b[39;00m train_test_split\n\u001b[1;32m      3\u001b[0m X_train, X_test, y_train, y_test \u001b[38;5;241m=\u001b[39m train_test_split(X, \n\u001b[1;32m      4\u001b[0m                                                     y, \n\u001b[1;32m      5\u001b[0m                                                     random_state\u001b[38;5;241m=\u001b[39m\u001b[38;5;241m100\u001b[39m)\n",
      "\u001b[0;31mModuleNotFoundError\u001b[0m: No module named 'sklearn'"
     ]
    }
   ],
   "source": [
    "from sklearn.model_selection import train_test_split\n",
    "\n",
    "X_train, X_test, y_train, y_test = train_test_split(X, \n",
    "                                                    y, \n",
    "                                                    random_state=100)"
   ]
  },
  {
   "cell_type": "code",
   "execution_count": 15,
   "id": "bea3f2b4-0246-4f87-9f1b-5978b8dd7cb4",
   "metadata": {},
   "outputs": [],
   "source": [
    "import os \n",
    "os.environ['KMP_DUPLICATE_LIB_OK']='True'"
   ]
  },
  {
   "cell_type": "code",
   "execution_count": null,
   "id": "2484e873-f989-47a9-bf46-becc9c041b47",
   "metadata": {},
   "outputs": [],
   "source": []
  },
  {
   "cell_type": "code",
   "execution_count": 16,
   "id": "25f76413-112f-46f5-8cfd-04439eb69f3b",
   "metadata": {},
   "outputs": [],
   "source": [
    "!pip install transformers[sentencepiece] sacrebleu rouge_score py7zr -q"
   ]
  },
  {
   "cell_type": "code",
   "execution_count": 9,
   "id": "18392e7b-4d9b-4cdf-bd56-70dd395c152f",
   "metadata": {},
   "outputs": [
    {
     "name": "stderr",
     "output_type": "stream",
     "text": [
      "[nltk_data] Downloading package punkt to\n",
      "[nltk_data]     /Users/niyantmehta/nltk_data...\n",
      "[nltk_data]   Package punkt is already up-to-date!\n"
     ]
    },
    {
     "data": {
      "text/plain": [
       "True"
      ]
     },
     "execution_count": 9,
     "metadata": {},
     "output_type": "execute_result"
    }
   ],
   "source": [
    "#from transformers import pipeline, set_seed\n",
    "\n",
    "\n",
    "import pandas as pd\n",
    "from datasets import load_dataset, load_metric\n",
    "from transformers import AutoModelForSeq2SeqLM, AutoTokenizer\n",
    "\n",
    "import pandas as pd\n",
    "import numpy as np\n",
    "\n",
    "import nltk\n",
    "from nltk.tokenize import sent_tokenize\n",
    "\n",
    "nltk.download(\"punkt\")"
   ]
  },
  {
   "cell_type": "code",
   "execution_count": 10,
   "id": "37cd3849-6068-4116-88f1-e950c14f2146",
   "metadata": {},
   "outputs": [
    {
     "name": "stdout",
     "output_type": "stream",
     "text": [
      "\n",
      "Article (excerpt of 500 characters, total length: 4051):\n",
      "\n",
      "Editor's note: In our Behind the Scenes series, CNN correspondents share their experiences in covering news and analyze the stories behind the events. Here, Soledad O'Brien takes users inside a jail where many of the inmates are mentally ill. An inmate housed on the \"forgotten floor,\" where many mentally ill inmates are housed in Miami before trial. MIAMI, Florida (CNN) -- The ninth floor of the Miami-Dade pretrial detention facility is dubbed the \"forgotten floor.\" Here, inmates with the most s\n",
      "\n",
      "Summary (length: 281):\n",
      "Mentally ill inmates in Miami are housed on the \"forgotten floor\"\n",
      "Judge Steven Leifman says most are there as a result of \"avoidable felonies\"\n",
      "While CNN tours facility, patient shouts: \"I am the son of the president\"\n",
      "Leifman says the system is unjust and he's fighting for change .\n"
     ]
    }
   ],
   "source": [
    "sample = dataset[\"train\"][1]\n",
    "print(f\"\"\"\n",
    "Article (excerpt of 500 characters, total length: {len(sample[\"article\"])}):\n",
    "\"\"\")\n",
    "print(sample[\"article\"][:500])\n",
    "print(f'\\nSummary (length: {len(sample[\"highlights\"])}):')\n",
    "print(sample[\"highlights\"])"
   ]
  },
  {
   "cell_type": "code",
   "execution_count": 11,
   "id": "9695353f-4a9f-412d-a0dd-8790949c83c8",
   "metadata": {},
   "outputs": [],
   "source": [
    "sample_text = dataset[\"train\"][1][\"article\"][:1000]\n",
    "\n",
    "# We'll collect the generated summaries of each model in a dictionary\n",
    "summaries = {}"
   ]
  },
  {
   "cell_type": "code",
   "execution_count": 12,
   "id": "d7667884-6627-41f1-bb67-ec394d43589f",
   "metadata": {},
   "outputs": [],
   "source": [
    "def baseline_summary_three_sent(text):\n",
    "    return \"\\n\".join(sent_tokenize(text)[:3])"
   ]
  },
  {
   "cell_type": "code",
   "execution_count": 13,
   "id": "66b1c5ae-b157-4d46-b6e3-b3c3f92a9b1e",
   "metadata": {},
   "outputs": [
    {
     "data": {
      "text/plain": [
       "'Editor\\'s note: In our Behind the Scenes series, CNN correspondents share their experiences in covering news and analyze the stories behind the events.\\nHere, Soledad O\\'Brien takes users inside a jail where many of the inmates are mentally ill. An inmate housed on the \"forgotten floor,\" where many mentally ill inmates are housed in Miami before trial.\\nMIAMI, Florida (CNN) -- The ninth floor of the Miami-Dade pretrial detention facility is dubbed the \"forgotten floor.\"'"
      ]
     },
     "execution_count": 13,
     "metadata": {},
     "output_type": "execute_result"
    }
   ],
   "source": [
    "summaries['baseline'] = baseline_summary_three_sent(sample_text)\n",
    "\n",
    "summaries['baseline']"
   ]
  },
  {
   "cell_type": "code",
   "execution_count": 1,
   "id": "8c8c6d6a-836e-4197-bf39-c55a29a84a39",
   "metadata": {
    "scrolled": true,
    "tags": []
   },
   "outputs": [
    {
     "name": "stdout",
     "output_type": "stream",
     "text": [
      "Intel MKL WARNING: Support of Intel(R) Streaming SIMD Extensions 4.2 (Intel(R) SSE4.2) enabled only processors has been deprecated. Intel oneAPI Math Kernel Library 2025.0 will require Intel(R) Advanced Vector Extensions (Intel(R) AVX) instructions.\n",
      "Intel MKL WARNING: Support of Intel(R) Streaming SIMD Extensions 4.2 (Intel(R) SSE4.2) enabled only processors has been deprecated. Intel oneAPI Math Kernel Library 2025.0 will require Intel(R) Advanced Vector Extensions (Intel(R) AVX) instructions.\n"
     ]
    },
    {
     "name": "stderr",
     "output_type": "stream",
     "text": [
      "/Users/niyantmehta/opt/anaconda3/envs/summarization/lib/python3.9/site-packages/tqdm/auto.py:21: TqdmWarning: IProgress not found. Please update jupyter and ipywidgets. See https://ipywidgets.readthedocs.io/en/stable/user_install.html\n",
      "  from .autonotebook import tqdm as notebook_tqdm\n"
     ]
    },
    {
     "ename": "ImportError",
     "evalue": "cannot import name 'COMMON_SAFE_ASCII_CHARACTERS' from 'charset_normalizer.constant' (/Users/niyantmehta/opt/anaconda3/envs/summarization/lib/python3.9/site-packages/charset_normalizer/constant.py)",
     "output_type": "error",
     "traceback": [
      "\u001b[0;31m---------------------------------------------------------------------------\u001b[0m",
      "\u001b[0;31mModuleNotFoundError\u001b[0m                       Traceback (most recent call last)",
      "File \u001b[0;32m~/opt/anaconda3/envs/summarization/lib/python3.9/site-packages/requests/compat.py:11\u001b[0m, in \u001b[0;36m<module>\u001b[0;34m\u001b[0m\n\u001b[1;32m     10\u001b[0m \u001b[39mtry\u001b[39;00m:\n\u001b[0;32m---> 11\u001b[0m     \u001b[39mimport\u001b[39;00m \u001b[39mchardet\u001b[39;00m\n\u001b[1;32m     12\u001b[0m \u001b[39mexcept\u001b[39;00m \u001b[39mImportError\u001b[39;00m:\n",
      "\u001b[0;31mModuleNotFoundError\u001b[0m: No module named 'chardet'",
      "\nDuring handling of the above exception, another exception occurred:\n",
      "\u001b[0;31mImportError\u001b[0m                               Traceback (most recent call last)",
      "\u001b[1;32m/Users/niyantmehta/Spiced/FinalProjectTest/test.ipynb Cell 24\u001b[0m in \u001b[0;36m<cell line: 1>\u001b[0;34m()\u001b[0m\n\u001b[0;32m----> <a href='vscode-notebook-cell:/Users/niyantmehta/Spiced/FinalProjectTest/test.ipynb#X32sZmlsZQ%3D%3D?line=0'>1</a>\u001b[0m \u001b[39mfrom\u001b[39;00m \u001b[39mtransformers\u001b[39;00m \u001b[39mimport\u001b[39;00m pipeline, set_seed\n",
      "File \u001b[0;32m~/opt/anaconda3/envs/summarization/lib/python3.9/site-packages/transformers/__init__.py:26\u001b[0m, in \u001b[0;36m<module>\u001b[0;34m\u001b[0m\n\u001b[1;32m     23\u001b[0m \u001b[39mfrom\u001b[39;00m \u001b[39mtyping\u001b[39;00m \u001b[39mimport\u001b[39;00m TYPE_CHECKING\n\u001b[1;32m     25\u001b[0m \u001b[39m# Check the dependencies satisfy the minimal versions required.\u001b[39;00m\n\u001b[0;32m---> 26\u001b[0m \u001b[39mfrom\u001b[39;00m \u001b[39m.\u001b[39;00m \u001b[39mimport\u001b[39;00m dependency_versions_check\n\u001b[1;32m     27\u001b[0m \u001b[39mfrom\u001b[39;00m \u001b[39m.\u001b[39;00m\u001b[39mutils\u001b[39;00m \u001b[39mimport\u001b[39;00m (\n\u001b[1;32m     28\u001b[0m     OptionalDependencyNotAvailable,\n\u001b[1;32m     29\u001b[0m     _LazyModule,\n\u001b[0;32m   (...)\u001b[0m\n\u001b[1;32m     42\u001b[0m     logging,\n\u001b[1;32m     43\u001b[0m )\n\u001b[1;32m     46\u001b[0m logger \u001b[39m=\u001b[39m logging\u001b[39m.\u001b[39mget_logger(\u001b[39m__name__\u001b[39m)  \u001b[39m# pylint: disable=invalid-name\u001b[39;00m\n",
      "File \u001b[0;32m~/opt/anaconda3/envs/summarization/lib/python3.9/site-packages/transformers/dependency_versions_check.py:17\u001b[0m, in \u001b[0;36m<module>\u001b[0;34m\u001b[0m\n\u001b[1;32m     14\u001b[0m \u001b[39mimport\u001b[39;00m \u001b[39msys\u001b[39;00m\n\u001b[1;32m     16\u001b[0m \u001b[39mfrom\u001b[39;00m \u001b[39m.\u001b[39;00m\u001b[39mdependency_versions_table\u001b[39;00m \u001b[39mimport\u001b[39;00m deps\n\u001b[0;32m---> 17\u001b[0m \u001b[39mfrom\u001b[39;00m \u001b[39m.\u001b[39;00m\u001b[39mutils\u001b[39;00m\u001b[39m.\u001b[39;00m\u001b[39mversions\u001b[39;00m \u001b[39mimport\u001b[39;00m require_version, require_version_core\n\u001b[1;32m     20\u001b[0m \u001b[39m# define which module versions we always want to check at run time\u001b[39;00m\n\u001b[1;32m     21\u001b[0m \u001b[39m# (usually the ones defined in `install_requires` in setup.py)\u001b[39;00m\n\u001b[1;32m     22\u001b[0m \u001b[39m#\u001b[39;00m\n\u001b[1;32m     23\u001b[0m \u001b[39m# order specific notes:\u001b[39;00m\n\u001b[1;32m     24\u001b[0m \u001b[39m# - tqdm must be checked before tokenizers\u001b[39;00m\n\u001b[1;32m     26\u001b[0m pkgs_to_check_at_runtime \u001b[39m=\u001b[39m \u001b[39m\"\u001b[39m\u001b[39mpython tqdm regex requests packaging filelock numpy tokenizers\u001b[39m\u001b[39m\"\u001b[39m\u001b[39m.\u001b[39msplit()\n",
      "File \u001b[0;32m~/opt/anaconda3/envs/summarization/lib/python3.9/site-packages/transformers/utils/__init__.py:30\u001b[0m, in \u001b[0;36m<module>\u001b[0;34m\u001b[0m\n\u001b[1;32m     21\u001b[0m \u001b[39mfrom\u001b[39;00m \u001b[39m.\u001b[39;00m\u001b[39mconstants\u001b[39;00m \u001b[39mimport\u001b[39;00m IMAGENET_DEFAULT_MEAN, IMAGENET_DEFAULT_STD, IMAGENET_STANDARD_MEAN, IMAGENET_STANDARD_STD\n\u001b[1;32m     22\u001b[0m \u001b[39mfrom\u001b[39;00m \u001b[39m.\u001b[39;00m\u001b[39mdoc\u001b[39;00m \u001b[39mimport\u001b[39;00m (\n\u001b[1;32m     23\u001b[0m     add_code_sample_docstrings,\n\u001b[1;32m     24\u001b[0m     add_end_docstrings,\n\u001b[0;32m   (...)\u001b[0m\n\u001b[1;32m     28\u001b[0m     replace_return_docstrings,\n\u001b[1;32m     29\u001b[0m )\n\u001b[0;32m---> 30\u001b[0m \u001b[39mfrom\u001b[39;00m \u001b[39m.\u001b[39;00m\u001b[39mgeneric\u001b[39;00m \u001b[39mimport\u001b[39;00m (\n\u001b[1;32m     31\u001b[0m     ContextManagers,\n\u001b[1;32m     32\u001b[0m     ExplicitEnum,\n\u001b[1;32m     33\u001b[0m     ModelOutput,\n\u001b[1;32m     34\u001b[0m     PaddingStrategy,\n\u001b[1;32m     35\u001b[0m     TensorType,\n\u001b[1;32m     36\u001b[0m     cached_property,\n\u001b[1;32m     37\u001b[0m     can_return_loss,\n\u001b[1;32m     38\u001b[0m     expand_dims,\n\u001b[1;32m     39\u001b[0m     find_labels,\n\u001b[1;32m     40\u001b[0m     flatten_dict,\n\u001b[1;32m     41\u001b[0m     is_jax_tensor,\n\u001b[1;32m     42\u001b[0m     is_numpy_array,\n\u001b[1;32m     43\u001b[0m     is_tensor,\n\u001b[1;32m     44\u001b[0m     is_tf_tensor,\n\u001b[1;32m     45\u001b[0m     is_torch_device,\n\u001b[1;32m     46\u001b[0m     is_torch_dtype,\n\u001b[1;32m     47\u001b[0m     is_torch_tensor,\n\u001b[1;32m     48\u001b[0m     reshape,\n\u001b[1;32m     49\u001b[0m     squeeze,\n\u001b[1;32m     50\u001b[0m     strtobool,\n\u001b[1;32m     51\u001b[0m     tensor_size,\n\u001b[1;32m     52\u001b[0m     to_numpy,\n\u001b[1;32m     53\u001b[0m     to_py_obj,\n\u001b[1;32m     54\u001b[0m     transpose,\n\u001b[1;32m     55\u001b[0m     working_or_temp_dir,\n\u001b[1;32m     56\u001b[0m )\n\u001b[1;32m     57\u001b[0m \u001b[39mfrom\u001b[39;00m \u001b[39m.\u001b[39;00m\u001b[39mhub\u001b[39;00m \u001b[39mimport\u001b[39;00m (\n\u001b[1;32m     58\u001b[0m     CLOUDFRONT_DISTRIB_PREFIX,\n\u001b[1;32m     59\u001b[0m     DISABLE_TELEMETRY,\n\u001b[0;32m   (...)\u001b[0m\n\u001b[1;32m     85\u001b[0m     send_example_telemetry,\n\u001b[1;32m     86\u001b[0m )\n\u001b[1;32m     87\u001b[0m \u001b[39mfrom\u001b[39;00m \u001b[39m.\u001b[39;00m\u001b[39mimport_utils\u001b[39;00m \u001b[39mimport\u001b[39;00m (\n\u001b[1;32m     88\u001b[0m     ENV_VARS_TRUE_AND_AUTO_VALUES,\n\u001b[1;32m     89\u001b[0m     ENV_VARS_TRUE_VALUES,\n\u001b[0;32m   (...)\u001b[0m\n\u001b[1;32m    167\u001b[0m     torch_version,\n\u001b[1;32m    168\u001b[0m )\n",
      "File \u001b[0;32m~/opt/anaconda3/envs/summarization/lib/python3.9/site-packages/transformers/utils/generic.py:29\u001b[0m, in \u001b[0;36m<module>\u001b[0;34m\u001b[0m\n\u001b[1;32m     25\u001b[0m \u001b[39mfrom\u001b[39;00m \u001b[39mtyping\u001b[39;00m \u001b[39mimport\u001b[39;00m Any, ContextManager, List, Tuple\n\u001b[1;32m     27\u001b[0m \u001b[39mimport\u001b[39;00m \u001b[39mnumpy\u001b[39;00m \u001b[39mas\u001b[39;00m \u001b[39mnp\u001b[39;00m\n\u001b[0;32m---> 29\u001b[0m \u001b[39mfrom\u001b[39;00m \u001b[39m.\u001b[39;00m\u001b[39mimport_utils\u001b[39;00m \u001b[39mimport\u001b[39;00m is_flax_available, is_tf_available, is_torch_available, is_torch_fx_proxy\n\u001b[1;32m     32\u001b[0m \u001b[39mif\u001b[39;00m is_flax_available():\n\u001b[1;32m     33\u001b[0m     \u001b[39mimport\u001b[39;00m \u001b[39mjax\u001b[39;00m\u001b[39m.\u001b[39;00m\u001b[39mnumpy\u001b[39;00m \u001b[39mas\u001b[39;00m \u001b[39mjnp\u001b[39;00m\n",
      "File \u001b[0;32m~/opt/anaconda3/envs/summarization/lib/python3.9/site-packages/transformers/utils/import_utils.py:32\u001b[0m, in \u001b[0;36m<module>\u001b[0;34m\u001b[0m\n\u001b[1;32m     28\u001b[0m \u001b[39mfrom\u001b[39;00m \u001b[39mtyping\u001b[39;00m \u001b[39mimport\u001b[39;00m Any\n\u001b[1;32m     30\u001b[0m \u001b[39mfrom\u001b[39;00m \u001b[39mpackaging\u001b[39;00m \u001b[39mimport\u001b[39;00m version\n\u001b[0;32m---> 32\u001b[0m \u001b[39mfrom\u001b[39;00m \u001b[39m.\u001b[39;00m \u001b[39mimport\u001b[39;00m logging\n\u001b[1;32m     33\u001b[0m \u001b[39mfrom\u001b[39;00m \u001b[39m.\u001b[39;00m\u001b[39mversions\u001b[39;00m \u001b[39mimport\u001b[39;00m importlib_metadata\n\u001b[1;32m     36\u001b[0m logger \u001b[39m=\u001b[39m logging\u001b[39m.\u001b[39mget_logger(\u001b[39m__name__\u001b[39m)  \u001b[39m# pylint: disable=invalid-name\u001b[39;00m\n",
      "File \u001b[0;32m~/opt/anaconda3/envs/summarization/lib/python3.9/site-packages/transformers/utils/logging.py:35\u001b[0m, in \u001b[0;36m<module>\u001b[0;34m\u001b[0m\n\u001b[1;32m     23\u001b[0m \u001b[39mfrom\u001b[39;00m \u001b[39mlogging\u001b[39;00m \u001b[39mimport\u001b[39;00m (\n\u001b[1;32m     24\u001b[0m     CRITICAL,  \u001b[39m# NOQA\u001b[39;00m\n\u001b[1;32m     25\u001b[0m     DEBUG,  \u001b[39m# NOQA\u001b[39;00m\n\u001b[0;32m   (...)\u001b[0m\n\u001b[1;32m     31\u001b[0m     WARNING,  \u001b[39m# NOQA\u001b[39;00m\n\u001b[1;32m     32\u001b[0m )\n\u001b[1;32m     33\u001b[0m \u001b[39mfrom\u001b[39;00m \u001b[39mtyping\u001b[39;00m \u001b[39mimport\u001b[39;00m Optional\n\u001b[0;32m---> 35\u001b[0m \u001b[39mimport\u001b[39;00m \u001b[39mhuggingface_hub\u001b[39;00m\u001b[39m.\u001b[39;00m\u001b[39mutils\u001b[39;00m \u001b[39mas\u001b[39;00m \u001b[39mhf_hub_utils\u001b[39;00m\n\u001b[1;32m     36\u001b[0m \u001b[39mfrom\u001b[39;00m \u001b[39mtqdm\u001b[39;00m \u001b[39mimport\u001b[39;00m auto \u001b[39mas\u001b[39;00m tqdm_lib\n\u001b[1;32m     39\u001b[0m _lock \u001b[39m=\u001b[39m threading\u001b[39m.\u001b[39mLock()\n",
      "File \u001b[0;32m~/opt/anaconda3/envs/summarization/lib/python3.9/site-packages/huggingface_hub/utils/__init__.py:32\u001b[0m, in \u001b[0;36m<module>\u001b[0;34m\u001b[0m\n\u001b[1;32m     30\u001b[0m \u001b[39mfrom\u001b[39;00m \u001b[39m.\u001b[39;00m\u001b[39m_chunk_utils\u001b[39;00m \u001b[39mimport\u001b[39;00m chunk_iterable\n\u001b[1;32m     31\u001b[0m \u001b[39mfrom\u001b[39;00m \u001b[39m.\u001b[39;00m\u001b[39m_datetime\u001b[39;00m \u001b[39mimport\u001b[39;00m parse_datetime\n\u001b[0;32m---> 32\u001b[0m \u001b[39mfrom\u001b[39;00m \u001b[39m.\u001b[39;00m\u001b[39m_errors\u001b[39;00m \u001b[39mimport\u001b[39;00m (\n\u001b[1;32m     33\u001b[0m     BadRequestError,\n\u001b[1;32m     34\u001b[0m     EntryNotFoundError,\n\u001b[1;32m     35\u001b[0m     GatedRepoError,\n\u001b[1;32m     36\u001b[0m     HfHubHTTPError,\n\u001b[1;32m     37\u001b[0m     LocalEntryNotFoundError,\n\u001b[1;32m     38\u001b[0m     RepositoryNotFoundError,\n\u001b[1;32m     39\u001b[0m     RevisionNotFoundError,\n\u001b[1;32m     40\u001b[0m     hf_raise_for_status,\n\u001b[1;32m     41\u001b[0m )\n\u001b[1;32m     42\u001b[0m \u001b[39mfrom\u001b[39;00m \u001b[39m.\u001b[39;00m\u001b[39m_fixes\u001b[39;00m \u001b[39mimport\u001b[39;00m SoftTemporaryDirectory, yaml_dump\n\u001b[1;32m     43\u001b[0m \u001b[39mfrom\u001b[39;00m \u001b[39m.\u001b[39;00m\u001b[39m_git_credential\u001b[39;00m \u001b[39mimport\u001b[39;00m list_credential_helpers, set_git_credential, unset_git_credential\n",
      "File \u001b[0;32m~/opt/anaconda3/envs/summarization/lib/python3.9/site-packages/huggingface_hub/utils/_errors.py:3\u001b[0m, in \u001b[0;36m<module>\u001b[0;34m\u001b[0m\n\u001b[1;32m      1\u001b[0m \u001b[39mfrom\u001b[39;00m \u001b[39mtyping\u001b[39;00m \u001b[39mimport\u001b[39;00m Optional\n\u001b[0;32m----> 3\u001b[0m \u001b[39mfrom\u001b[39;00m \u001b[39mrequests\u001b[39;00m \u001b[39mimport\u001b[39;00m HTTPError, Response\n\u001b[1;32m      5\u001b[0m \u001b[39mfrom\u001b[39;00m \u001b[39m.\u001b[39;00m\u001b[39m_fixes\u001b[39;00m \u001b[39mimport\u001b[39;00m JSONDecodeError\n\u001b[1;32m      8\u001b[0m \u001b[39mclass\u001b[39;00m \u001b[39mHfHubHTTPError\u001b[39;00m(HTTPError):\n",
      "File \u001b[0;32m~/opt/anaconda3/envs/summarization/lib/python3.9/site-packages/requests/__init__.py:45\u001b[0m, in \u001b[0;36m<module>\u001b[0;34m\u001b[0m\n\u001b[1;32m     41\u001b[0m \u001b[39mimport\u001b[39;00m \u001b[39mwarnings\u001b[39;00m\n\u001b[1;32m     43\u001b[0m \u001b[39mimport\u001b[39;00m \u001b[39murllib3\u001b[39;00m\n\u001b[0;32m---> 45\u001b[0m \u001b[39mfrom\u001b[39;00m \u001b[39m.\u001b[39;00m\u001b[39mexceptions\u001b[39;00m \u001b[39mimport\u001b[39;00m RequestsDependencyWarning\n\u001b[1;32m     47\u001b[0m \u001b[39mtry\u001b[39;00m:\n\u001b[1;32m     48\u001b[0m     \u001b[39mfrom\u001b[39;00m \u001b[39mcharset_normalizer\u001b[39;00m \u001b[39mimport\u001b[39;00m __version__ \u001b[39mas\u001b[39;00m charset_normalizer_version\n",
      "File \u001b[0;32m~/opt/anaconda3/envs/summarization/lib/python3.9/site-packages/requests/exceptions.py:9\u001b[0m, in \u001b[0;36m<module>\u001b[0;34m\u001b[0m\n\u001b[1;32m      1\u001b[0m \u001b[39m\"\"\"\u001b[39;00m\n\u001b[1;32m      2\u001b[0m \u001b[39mrequests.exceptions\u001b[39;00m\n\u001b[1;32m      3\u001b[0m \u001b[39m~~~~~~~~~~~~~~~~~~~\u001b[39;00m\n\u001b[1;32m      4\u001b[0m \n\u001b[1;32m      5\u001b[0m \u001b[39mThis module contains the set of Requests' exceptions.\u001b[39;00m\n\u001b[1;32m      6\u001b[0m \u001b[39m\"\"\"\u001b[39;00m\n\u001b[1;32m      7\u001b[0m \u001b[39mfrom\u001b[39;00m \u001b[39murllib3\u001b[39;00m\u001b[39m.\u001b[39;00m\u001b[39mexceptions\u001b[39;00m \u001b[39mimport\u001b[39;00m HTTPError \u001b[39mas\u001b[39;00m BaseHTTPError\n\u001b[0;32m----> 9\u001b[0m \u001b[39mfrom\u001b[39;00m \u001b[39m.\u001b[39;00m\u001b[39mcompat\u001b[39;00m \u001b[39mimport\u001b[39;00m JSONDecodeError \u001b[39mas\u001b[39;00m CompatJSONDecodeError\n\u001b[1;32m     12\u001b[0m \u001b[39mclass\u001b[39;00m \u001b[39mRequestException\u001b[39;00m(\u001b[39mIOError\u001b[39;00m):\n\u001b[1;32m     13\u001b[0m     \u001b[39m\"\"\"There was an ambiguous exception that occurred while handling your\u001b[39;00m\n\u001b[1;32m     14\u001b[0m \u001b[39m    request.\u001b[39;00m\n\u001b[1;32m     15\u001b[0m \u001b[39m    \"\"\"\u001b[39;00m\n",
      "File \u001b[0;32m~/opt/anaconda3/envs/summarization/lib/python3.9/site-packages/requests/compat.py:13\u001b[0m, in \u001b[0;36m<module>\u001b[0;34m\u001b[0m\n\u001b[1;32m     11\u001b[0m     \u001b[39mimport\u001b[39;00m \u001b[39mchardet\u001b[39;00m\n\u001b[1;32m     12\u001b[0m \u001b[39mexcept\u001b[39;00m \u001b[39mImportError\u001b[39;00m:\n\u001b[0;32m---> 13\u001b[0m     \u001b[39mimport\u001b[39;00m \u001b[39mcharset_normalizer\u001b[39;00m \u001b[39mas\u001b[39;00m \u001b[39mchardet\u001b[39;00m\n\u001b[1;32m     15\u001b[0m \u001b[39mimport\u001b[39;00m \u001b[39msys\u001b[39;00m\n\u001b[1;32m     17\u001b[0m \u001b[39m# -------\u001b[39;00m\n\u001b[1;32m     18\u001b[0m \u001b[39m# Pythons\u001b[39;00m\n\u001b[1;32m     19\u001b[0m \u001b[39m# -------\u001b[39;00m\n\u001b[1;32m     20\u001b[0m \n\u001b[1;32m     21\u001b[0m \u001b[39m# Syntax sugar.\u001b[39;00m\n",
      "File \u001b[0;32m~/opt/anaconda3/envs/summarization/lib/python3.9/site-packages/charset_normalizer/__init__.py:23\u001b[0m, in \u001b[0;36m<module>\u001b[0;34m\u001b[0m\n\u001b[1;32m      1\u001b[0m \u001b[39m\"\"\"\u001b[39;00m\n\u001b[1;32m      2\u001b[0m \u001b[39mCharset-Normalizer\u001b[39;00m\n\u001b[1;32m      3\u001b[0m \u001b[39m~~~~~~~~~~~~~~\u001b[39;00m\n\u001b[0;32m   (...)\u001b[0m\n\u001b[1;32m     21\u001b[0m \u001b[39m:license: MIT, see LICENSE for more details.\u001b[39;00m\n\u001b[1;32m     22\u001b[0m \u001b[39m\"\"\"\u001b[39;00m\n\u001b[0;32m---> 23\u001b[0m \u001b[39mfrom\u001b[39;00m \u001b[39mcharset_normalizer\u001b[39;00m\u001b[39m.\u001b[39;00m\u001b[39mapi\u001b[39;00m \u001b[39mimport\u001b[39;00m from_fp, from_path, from_bytes, normalize\n\u001b[1;32m     24\u001b[0m \u001b[39mfrom\u001b[39;00m \u001b[39mcharset_normalizer\u001b[39;00m\u001b[39m.\u001b[39;00m\u001b[39mlegacy\u001b[39;00m \u001b[39mimport\u001b[39;00m detect\n\u001b[1;32m     25\u001b[0m \u001b[39mfrom\u001b[39;00m \u001b[39mcharset_normalizer\u001b[39;00m\u001b[39m.\u001b[39;00m\u001b[39mversion\u001b[39;00m \u001b[39mimport\u001b[39;00m __version__, VERSION\n",
      "File \u001b[0;32m~/opt/anaconda3/envs/summarization/lib/python3.9/site-packages/charset_normalizer/api.py:10\u001b[0m, in \u001b[0;36m<module>\u001b[0;34m\u001b[0m\n\u001b[1;32m      7\u001b[0m     PathLike \u001b[39m=\u001b[39m Union[\u001b[39mstr\u001b[39m, \u001b[39m'\u001b[39m\u001b[39mos.PathLike[str]\u001b[39m\u001b[39m'\u001b[39m]  \u001b[39m# type: ignore\u001b[39;00m\n\u001b[1;32m      9\u001b[0m \u001b[39mfrom\u001b[39;00m \u001b[39mcharset_normalizer\u001b[39;00m\u001b[39m.\u001b[39;00m\u001b[39mconstant\u001b[39;00m \u001b[39mimport\u001b[39;00m TOO_SMALL_SEQUENCE, TOO_BIG_SEQUENCE, IANA_SUPPORTED\n\u001b[0;32m---> 10\u001b[0m \u001b[39mfrom\u001b[39;00m \u001b[39mcharset_normalizer\u001b[39;00m\u001b[39m.\u001b[39;00m\u001b[39mmd\u001b[39;00m \u001b[39mimport\u001b[39;00m mess_ratio\n\u001b[1;32m     11\u001b[0m \u001b[39mfrom\u001b[39;00m \u001b[39mcharset_normalizer\u001b[39;00m\u001b[39m.\u001b[39;00m\u001b[39mmodels\u001b[39;00m \u001b[39mimport\u001b[39;00m CharsetMatches, CharsetMatch\n\u001b[1;32m     12\u001b[0m \u001b[39mfrom\u001b[39;00m \u001b[39mwarnings\u001b[39;00m \u001b[39mimport\u001b[39;00m warn\n",
      "File \u001b[0;32m~/opt/anaconda3/envs/summarization/lib/python3.9/site-packages/charset_normalizer/md.py:5\u001b[0m, in \u001b[0;36m<module>\u001b[0;34m\u001b[0m\n\u001b[1;32m      2\u001b[0m \u001b[39mfrom\u001b[39;00m \u001b[39mtyping\u001b[39;00m \u001b[39mimport\u001b[39;00m Optional, List\n\u001b[1;32m      4\u001b[0m \u001b[39mfrom\u001b[39;00m \u001b[39mcharset_normalizer\u001b[39;00m\u001b[39m.\u001b[39;00m\u001b[39mconstant\u001b[39;00m \u001b[39mimport\u001b[39;00m UNICODE_SECONDARY_RANGE_KEYWORD\n\u001b[0;32m----> 5\u001b[0m \u001b[39mfrom\u001b[39;00m \u001b[39mcharset_normalizer\u001b[39;00m\u001b[39m.\u001b[39;00m\u001b[39mutils\u001b[39;00m \u001b[39mimport\u001b[39;00m is_punctuation, is_symbol, unicode_range, is_accentuated, is_latin, \\\n\u001b[1;32m      6\u001b[0m     remove_accent, is_separator, is_cjk, is_case_variable, is_hangul, is_katakana, is_hiragana, is_ascii, is_thai\n\u001b[1;32m      9\u001b[0m \u001b[39mclass\u001b[39;00m \u001b[39mMessDetectorPlugin\u001b[39;00m:\n\u001b[1;32m     10\u001b[0m     \u001b[39m\"\"\"\u001b[39;00m\n\u001b[1;32m     11\u001b[0m \u001b[39m    Base abstract class used for mess detection plugins.\u001b[39;00m\n\u001b[1;32m     12\u001b[0m \u001b[39m    All detectors MUST extend and implement given methods.\u001b[39;00m\n\u001b[1;32m     13\u001b[0m \u001b[39m    \"\"\"\u001b[39;00m\n",
      "\u001b[0;31mImportError\u001b[0m: cannot import name 'COMMON_SAFE_ASCII_CHARACTERS' from 'charset_normalizer.constant' (/Users/niyantmehta/opt/anaconda3/envs/summarization/lib/python3.9/site-packages/charset_normalizer/constant.py)"
     ]
    }
   ],
   "source": [
    "from transformers import pipeline, set_seed\n",
    "\n"
   ]
  },
  {
   "cell_type": "code",
   "execution_count": null,
   "id": "b667f3f2-7ac7-4e4f-b00f-c7f877e8e9ab",
   "metadata": {},
   "outputs": [],
   "source": [
    "set_seed(42)"
   ]
  },
  {
   "cell_type": "code",
   "execution_count": null,
   "id": "1e1d4956-3eef-41ad-b640-6b68a50599be",
   "metadata": {},
   "outputs": [],
   "source": [
    "pipe = pipeline('text-generation', model = 'gpt2-medium')"
   ]
  },
  {
   "cell_type": "code",
   "execution_count": null,
   "id": "0c181b3b-688f-4b61-b267-e2dea50bb470",
   "metadata": {},
   "outputs": [],
   "source": [
    "import tensorflow as tf\n",
    "\n",
    "print(\"TensorFlow version:\", tf.__version__)\n"
   ]
  },
  {
   "cell_type": "code",
   "execution_count": null,
   "id": "6d713866-81a5-4b09-b545-5a67c17c8911",
   "metadata": {},
   "outputs": [],
   "source": []
  }
 ],
 "metadata": {
  "kernelspec": {
   "display_name": "summarization",
   "language": "python",
   "name": "summarization"
  },
  "language_info": {
   "codemirror_mode": {
    "name": "ipython",
    "version": 3
   },
   "file_extension": ".py",
   "mimetype": "text/x-python",
   "name": "python",
   "nbconvert_exporter": "python",
   "pygments_lexer": "ipython3",
   "version": "3.9.16"
  }
 },
 "nbformat": 4,
 "nbformat_minor": 5
}
